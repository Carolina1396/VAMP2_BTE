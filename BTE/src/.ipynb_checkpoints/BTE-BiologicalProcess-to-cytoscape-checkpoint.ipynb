{
 "cells": [
  {
   "cell_type": "markdown",
   "id": "black-cricket",
   "metadata": {},
   "source": [
    "#### Import BTE modules"
   ]
  },
  {
   "cell_type": "code",
   "execution_count": 2,
   "id": "higher-hardware",
   "metadata": {},
   "outputs": [
    {
     "ename": "ModuleNotFoundError",
     "evalue": "No module named 'data_tools'",
     "output_type": "error",
     "traceback": [
      "\u001b[0;31m---------------------------------------------------------------------------\u001b[0m",
      "\u001b[0;31mModuleNotFoundError\u001b[0m                       Traceback (most recent call last)",
      "\u001b[0;32m<ipython-input-2-6f0a03fafd7f>\u001b[0m in \u001b[0;36m<module>\u001b[0;34m\u001b[0m\n\u001b[1;32m      1\u001b[0m \u001b[0;32mimport\u001b[0m \u001b[0mpandas\u001b[0m \u001b[0;32mas\u001b[0m \u001b[0mpandas\u001b[0m\u001b[0;34m\u001b[0m\u001b[0;34m\u001b[0m\u001b[0m\n\u001b[1;32m      2\u001b[0m \u001b[0;32mfrom\u001b[0m \u001b[0mbiothings_explorer\u001b[0m\u001b[0;34m.\u001b[0m\u001b[0mquery\u001b[0m\u001b[0;34m.\u001b[0m\u001b[0mpredict\u001b[0m \u001b[0;32mimport\u001b[0m \u001b[0mPredict\u001b[0m\u001b[0;34m\u001b[0m\u001b[0;34m\u001b[0m\u001b[0m\n\u001b[0;32m----> 3\u001b[0;31m \u001b[0;32mfrom\u001b[0m \u001b[0mbiothings_explorer\u001b[0m\u001b[0;34m.\u001b[0m\u001b[0mquery\u001b[0m\u001b[0;34m.\u001b[0m\u001b[0mvisualize\u001b[0m \u001b[0;32mimport\u001b[0m \u001b[0mdisplay_graph\u001b[0m\u001b[0;34m\u001b[0m\u001b[0;34m\u001b[0m\u001b[0m\n\u001b[0m\u001b[1;32m      4\u001b[0m \u001b[0;32mfrom\u001b[0m \u001b[0mbiothings_explorer\u001b[0m\u001b[0;34m.\u001b[0m\u001b[0muser_query_dispatcher\u001b[0m \u001b[0;32mimport\u001b[0m \u001b[0mFindConnection\u001b[0m\u001b[0;34m\u001b[0m\u001b[0;34m\u001b[0m\u001b[0m\n\u001b[1;32m      5\u001b[0m \u001b[0;32mfrom\u001b[0m \u001b[0mbiothings_explorer\u001b[0m\u001b[0;34m.\u001b[0m\u001b[0mhint\u001b[0m \u001b[0;32mimport\u001b[0m \u001b[0mHint\u001b[0m\u001b[0;34m\u001b[0m\u001b[0;34m\u001b[0m\u001b[0m\n",
      "\u001b[0;32m/opt/anaconda3/lib/python3.8/site-packages/biothings_explorer/query/visualize.py\u001b[0m in \u001b[0;36m<module>\u001b[0;34m\u001b[0m\n\u001b[1;32m      1\u001b[0m \u001b[0;32mfrom\u001b[0m \u001b[0mcollections\u001b[0m \u001b[0;32mimport\u001b[0m \u001b[0mCounter\u001b[0m\u001b[0;34m\u001b[0m\u001b[0;34m\u001b[0m\u001b[0m\n\u001b[0;32m----> 2\u001b[0;31m \u001b[0;32mfrom\u001b[0m \u001b[0mdata_tools\u001b[0m \u001b[0;32mimport\u001b[0m \u001b[0mplotting\u001b[0m \u001b[0;32mas\u001b[0m \u001b[0mdtp\u001b[0m\u001b[0;34m\u001b[0m\u001b[0;34m\u001b[0m\u001b[0m\n\u001b[0m\u001b[1;32m      3\u001b[0m \u001b[0;34m\u001b[0m\u001b[0m\n\u001b[1;32m      4\u001b[0m \u001b[0;34m\u001b[0m\u001b[0m\n\u001b[1;32m      5\u001b[0m \u001b[0;32mdef\u001b[0m \u001b[0mdisplay_graph\u001b[0m\u001b[0;34m(\u001b[0m\u001b[0mtable\u001b[0m\u001b[0;34m)\u001b[0m\u001b[0;34m:\u001b[0m\u001b[0;34m\u001b[0m\u001b[0;34m\u001b[0m\u001b[0m\n",
      "\u001b[0;31mModuleNotFoundError\u001b[0m: No module named 'data_tools'"
     ]
    }
   ],
   "source": [
    "import pandas as pandas\n",
    "from biothings_explorer.query.predict import Predict\n",
    "from biothings_explorer.query.visualize import display_graph\n",
    "from biothings_explorer.user_query_dispatcher import FindConnection\n",
    "from biothings_explorer.hint import Hint\n",
    "import nest_asyncio\n",
    "nest_asyncio.apply()\n",
    "import networkx as nx\n",
    "import matplotlib.pyplot as plt\n",
    "\n",
    "%matplotlib inline\n",
    "import warnings\n",
    "warnings.filterwarnings(\"ignore\") \n",
    "\n",
    "ht = Hint()"
   ]
  },
  {
   "cell_type": "markdown",
   "id": "artistic-investment",
   "metadata": {},
   "source": [
    "### Find representation of VAMP2 in BTE"
   ]
  },
  {
   "cell_type": "code",
   "execution_count": null,
   "id": "greater-johns",
   "metadata": {
    "scrolled": true
   },
   "outputs": [],
   "source": [
    "# find representations of VAMP2 (ENSG00000220205)\n",
    "vamp2 = ht.query(\"ENSG00000220205\") [\"Gene\"] [0]\n",
    "vamp2"
   ]
  },
  {
   "cell_type": "markdown",
   "id": "smoking-sussex",
   "metadata": {},
   "source": [
    "### Biological Process related to VAMP2\n",
    "Find all the **Biological Process** directly connected to the gene: **VAMP2** (no intermediate nodes [ ]) "
   ]
  },
  {
   "cell_type": "code",
   "execution_count": null,
   "id": "abandoned-layout",
   "metadata": {
    "scrolled": false
   },
   "outputs": [],
   "source": [
    "fc_BP = FindConnection(input_obj=vamp2, output_obj=\"BiologicalProcess\", intermediate_nodes= [])"
   ]
  },
  {
   "cell_type": "code",
   "execution_count": null,
   "id": "right-original",
   "metadata": {
    "scrolled": true
   },
   "outputs": [],
   "source": [
    "# set verbose=True will display all steps which BTE takes to find the connection\n",
    "fc_BP.connect()"
   ]
  },
  {
   "cell_type": "code",
   "execution_count": null,
   "id": "congressional-spine",
   "metadata": {
    "scrolled": true
   },
   "outputs": [],
   "source": [
    "#Display results in a table \n",
    "df_BP=fc_BP.display_table_view ()\n",
    "df_BP"
   ]
  },
  {
   "cell_type": "code",
   "execution_count": null,
   "id": "vital-population",
   "metadata": {
    "scrolled": true
   },
   "outputs": [],
   "source": [
    "#Display just the Biological Process retrieved\n",
    "df_BP.output_name.value_counts()"
   ]
  },
  {
   "cell_type": "code",
   "execution_count": null,
   "id": "thermal-advocate",
   "metadata": {
    "scrolled": true
   },
   "outputs": [],
   "source": [
    "# Display id's of the Biological Process retrieved \n",
    "bp_output_id = df_BP.output_id.value_counts()\n",
    "bp_output_id"
   ]
  },
  {
   "cell_type": "code",
   "execution_count": null,
   "id": "right-correction",
   "metadata": {},
   "outputs": [],
   "source": []
  },
  {
   "cell_type": "code",
   "execution_count": null,
   "id": "simplified-roommate",
   "metadata": {},
   "outputs": [],
   "source": []
  },
  {
   "cell_type": "code",
   "execution_count": null,
   "id": "blond-alliance",
   "metadata": {},
   "outputs": [],
   "source": []
  },
  {
   "cell_type": "markdown",
   "id": "fourth-lover",
   "metadata": {},
   "source": [
    "###  Query Path: BP>Genes>ChemicalSubstances>Disease\n",
    "We want to find all the **Genes** associated to each **BiologicalProcess** connected to VAMP2 (previously retrieved). We also want to find the the **ChemicalSubstances** connecting each gene to **Diseases** of interest (Epilepsy, autism, intelectual disabilities)\n",
    "\n",
    "For loop: \n",
    "1. Genes connected to the Biological Process (**bp_output_id**) \n",
    "    - Representation of Biological Process \n",
    "    - Find Genes directly connected to Biological Process. No intermediate nodes. \n",
    "    - Filter. Select only the Biological Process that have less than \"x\" genes related (**threshold_gene**)\n",
    "    \n",
    "2. Find intermediate ChemicalSubstance connecting Genes and diseases of interest (**diseases_id**)\n",
    "    - Representation of genes selected\n",
    "    - Representation of Diseases (diseases_id)"
   ]
  },
  {
   "cell_type": "code",
   "execution_count": null,
   "id": "modified-deadline",
   "metadata": {},
   "outputs": [],
   "source": [
    "def bp_to_cs (bp_output_id,\n",
    "              threshold_gene, \n",
    "              diseases_id):\n",
    "    \n",
    "#Clean ID results\n",
    "    ##Remove first \"GO\" character\n",
    "    BP_ID =[]\n",
    "    for i in (bp_output_id.index.tolist()): #Get the index of pandas.Series to a list \n",
    "        if \"GO\" in i: \n",
    "            BP_ID.append(i[3:]) #Remove the first GO character in the ID and append to sliced list\n",
    "        else: \n",
    "            not_GO_ID = (i) #Remove the not-GO IDs\n",
    "\n",
    "#Genes connected to the Biological Process\n",
    "    #Connection BP-Gene\n",
    "    table_BP_genes_results = []\n",
    "    for gene in BP_ID: \n",
    "        fc = FindConnection(input_obj=(ht.query(gene)[\"BiologicalProcess\"][0]), #Find representation of BP\n",
    "                            output_obj= \"Gene\", \n",
    "                            intermediate_nodes= [])\n",
    "        fc.connect() \n",
    "        fc.results=(fc.display_table_view ())\n",
    "        \n",
    "        #Filter BP based on threshold_gene argument\n",
    "        if len(fc.results) <= threshold_gene: \n",
    "            table_BP_genes_results.append(fc.results)\n",
    "        else: \n",
    "            None \n",
    "\n",
    "#Concatenate tables BP-Genes      \n",
    "    df = pandas.concat(table_BP_genes_results)\n",
    "    #print (df)\n",
    "\n",
    "    \n",
    "#Get the Chemical substances related to the genes retrieved\n",
    "#Connection Gene-Cs-Disease\n",
    "    final_table = []\n",
    "    for bp,pred_type,source,gene_id in zip(df[\"input\"], df [\"pred1\"], df[\"pred1_pubmed\"], df[\"output_name\"]):\n",
    "        for disease in diseases_id:\n",
    "            cs = FindConnection(input_obj=(ht.query(gene_id)['Gene'][0]), \n",
    "                                output_obj= (ht.query(disease)['Disease'][0]),\n",
    "                                intermediate_nodes= \"ChemicalSubstance\") #Next step would be to Filter Chemical Substances (??)\n",
    "            cs.connect() # set verbose=True will display all steps which BTE takes to find the connection\n",
    "            table_results_cs= (cs.display_table_view ())\n",
    "            #Add columns related to the Biological Process \n",
    "            table_results_cs.insert(0, 'BiologicalProcess', bp) #Add biological Process\n",
    "            table_results_cs.insert(1, 'pred_BP_Gene', pred_type) #Add the association type \n",
    "            table_results_cs.insert(2, 'pred_source', source) #Add the source of prediction\n",
    "            \n",
    "            final_table.append(table_results_cs)\n",
    "    \n",
    "    \n",
    "#Concatenate tables  Gene-Disease-CS      \n",
    "    final_results = pandas.concat(final_table)\n",
    "    return (final_results)"
   ]
  },
  {
   "cell_type": "markdown",
   "id": "precise-upset",
   "metadata": {},
   "source": [
    "#### Run for loop "
   ]
  },
  {
   "cell_type": "code",
   "execution_count": null,
   "id": "czech-macedonia",
   "metadata": {
    "scrolled": true
   },
   "outputs": [],
   "source": [
    "#List of disease\n",
    "    #MONDO:0005027: Epilepsy #MONDO:0005260: Autism #MONDO:0001071: intellectual disability\n",
    "\n",
    "diseases_id= [\"MONDO:0005027\",\"MONDO:0005260\", \"MONDO:0001071\"]\n",
    "\n",
    "#bp_to_cs function\n",
    "    #Select the Biological Process that have 10 or less genes associated\n",
    "\n",
    "test = bp_to_cs(bp_output_id, threshold_gene = 10, diseases_id=diseases_id )"
   ]
  },
  {
   "cell_type": "code",
   "execution_count": null,
   "id": "welsh-haiti",
   "metadata": {
    "scrolled": false
   },
   "outputs": [],
   "source": [
    "#Display Results \n",
    "test"
   ]
  },
  {
   "cell_type": "code",
   "execution_count": null,
   "id": "wanted-numbers",
   "metadata": {},
   "outputs": [],
   "source": []
  },
  {
   "cell_type": "code",
   "execution_count": null,
   "id": "practical-credits",
   "metadata": {},
   "outputs": [],
   "source": []
  },
  {
   "cell_type": "code",
   "execution_count": null,
   "id": "biblical-infrared",
   "metadata": {},
   "outputs": [],
   "source": []
  },
  {
   "cell_type": "markdown",
   "id": "happy-latitude",
   "metadata": {},
   "source": [
    "## Cytoscape \n",
    "Documentation https://dash.plotly.com/cytoscape"
   ]
  },
  {
   "cell_type": "markdown",
   "id": "cardiac-korean",
   "metadata": {},
   "source": [
    "### Data wrangling for Cytoscape "
   ]
  },
  {
   "cell_type": "code",
   "execution_count": null,
   "id": "certain-assets",
   "metadata": {},
   "outputs": [],
   "source": [
    "#Filter columns of interest \n",
    "df_entities = test[['BiologicalProcess', \"pred_BP_Gene\", \"pred_source\",\n",
    "                    \"input\", \"pred1\", \"pred1_pubmed\",\n",
    "                    \"node1_name\", \"pred2\", \"pred2_pubmed\",\n",
    "                    \"output_name\"]]\n",
    "\n",
    "\n",
    "#Rename columns \n",
    "df_entities = df_entities.rename(columns = {\"pred_source\": \"source_BP_Gene\",\n",
    "                       \"input\": \"Gene\", \"pred1\": \"pred_Gene_CS\", \"pred1_pubmed\": \"source_Gene_CS\",\n",
    "                       \"node1_name\": \"ChemicalSubstance\", \"pred2\": \"pred_CS_Dis\", \"pred2_pubmed\": \"source_CS_Dis\",\n",
    "                       \"output_name\": \"Disease\"})\n",
    "\n",
    "df_entities.head(10)"
   ]
  },
  {
   "cell_type": "code",
   "execution_count": null,
   "id": "russian-russell",
   "metadata": {
    "scrolled": true
   },
   "outputs": [],
   "source": [
    "#Create a list from test results\n",
    "my_list_entities = df_entities.values.tolist()"
   ]
  },
  {
   "cell_type": "code",
   "execution_count": null,
   "id": "manufactured-surprise",
   "metadata": {},
   "outputs": [],
   "source": [
    "#my_list_entities"
   ]
  },
  {
   "cell_type": "code",
   "execution_count": null,
   "id": "extraordinary-membership",
   "metadata": {},
   "outputs": [],
   "source": [
    "#Lists to store elements of interest  \n",
    "source = [] \n",
    "target = []\n",
    "association_type = []\n",
    "number_pred_pubmed = []\n",
    "pred_pubmed = []\n",
    "\n",
    "for lis in my_list_entities: \n",
    "    for index,value in enumerate(lis):\n",
    "        #Source\n",
    "        if index % 10 == 0 or index % 10 == 3 or index % 10 == 6: \n",
    "                source.append(value)\n",
    "        #Target\n",
    "        if index % 10 == 3 or index % 10 == 6 or index % 10 == 9:\n",
    "                target.append(value)\n",
    "        #Association \n",
    "        elif index % 10 == 1 or index % 10 == 4 or index % 10 == 7:\n",
    "                association_type.append(value)\n",
    "        #pubmed Id\n",
    "        elif index % 10 == 2 or index % 10 == 5 or index % 10 == 8:\n",
    "                pred_pubmed.append(value)\n",
    "                \n",
    "#Number of pubmed IDs \n",
    "for result in pred_pubmed:\n",
    "        if result == None:\n",
    "            number_pred_pubmed.append(0)\n",
    "        else:\n",
    "            number_pred_pubmed.append(result.count(',') + 1) \n",
    "        \n",
    "            \n",
    "#Create data frame with generated lists \n",
    "d = {'source': source, \n",
    "    'target': target,\n",
    "    \"association_type\": association_type,\n",
    "    \"pred_pubmed\": pred_pubmed,\n",
    "   \"number_pred_pubmed\": number_pred_pubmed} \n",
    "df= pandas.DataFrame(data=d)\n",
    "\n",
    "df.head(10)"
   ]
  },
  {
   "cell_type": "code",
   "execution_count": null,
   "id": "competitive-compression",
   "metadata": {},
   "outputs": [],
   "source": [
    "#To test results in Cytoscape: Select only the first 500 connections\n",
    "df = df.head(500)"
   ]
  },
  {
   "cell_type": "code",
   "execution_count": null,
   "id": "continuous-record",
   "metadata": {},
   "outputs": [],
   "source": []
  },
  {
   "cell_type": "markdown",
   "id": "expected-entrepreneur",
   "metadata": {},
   "source": [
    "### Cytoscape: Elements = [ ]\n",
    "We need to create **elements []** list of dictionaries for Cytoscape. This include the dictionaries for the **\"nodes\"** and **\"edges\"**\n",
    "#### This is an example of  the structure required fot cytoscape elements list: \n",
    "```\n",
    "elements = [\n",
    "#Nodes \n",
    "{ \"data\": {\"id\": \"BP1\", \"name\": \"BP1\"}, \n",
    "\"classes\": \"BiologicalProcess\" }}, #This variable will later help us to manipulate each class indepentently \n",
    "{ \"data\": {\"id\": \"Gene1\", \"name\": \"Gene1\"}, \n",
    "\"classes\": \"Gene\" }}\n",
    "....\n",
    "\n",
    "#Edges\n",
    "{'data': {'source': BP1, \n",
    "'target': Gene, \n",
    "'label': related_to, \n",
    "\"weight\": 2}, #Number of pubmed_id \n",
    "\"group\": \"edges\" }\n",
    "\n",
    "]\n",
    "```"
   ]
  },
  {
   "cell_type": "markdown",
   "id": "national-motel",
   "metadata": {},
   "source": [
    "##### Cytoscape: Nodes. \n",
    "We first are going to create the dictionaries of nodes, which includes each of our entities (BP, Gene, CSub, Disease). We are going to iterate through the elements on source and target column in our new data frame"
   ]
  },
  {
   "cell_type": "code",
   "execution_count": null,
   "id": "pregnant-explanation",
   "metadata": {},
   "outputs": [],
   "source": [
    "#Get unique source entities and its index\n",
    "import numpy as np\n",
    "value_source, indx_source = np.unique(df[\"source\"].values, return_index = True)"
   ]
  },
  {
   "cell_type": "code",
   "execution_count": null,
   "id": "medical-relevance",
   "metadata": {},
   "outputs": [],
   "source": [
    "#Get unique target entities and its index\n",
    "value_target, indx_target = np.unique(df[\"target\"].values, return_index = True)"
   ]
  },
  {
   "cell_type": "code",
   "execution_count": null,
   "id": "limited-italy",
   "metadata": {},
   "outputs": [],
   "source": [
    "#Cytoscape Node format\n",
    "my_nodes = []\n",
    "\n",
    "for i, value in zip(indx_source, value_source):\n",
    "    if i % 3 == 0: #Index position remainder = 0 (0,3,6,9,12...)\n",
    "        my_nodes.append({\n",
    "            \"data\": {\n",
    "            \"id\": value,\n",
    "            \"name\": value\n",
    "            },\n",
    "            \"classes\":\"BiologicalProcess\"})\n",
    "    elif i % 3 == 1:  #Index position remainder = 1 (1,4,7,10....)\n",
    "        my_nodes.append({\n",
    "        \"data\": {\n",
    "            \"id\": value,\n",
    "            \"name\": value\n",
    "            },\n",
    "        \"classes\":\"Gene\"}) \n",
    "    elif i % 3 == 2:  #Index position remainder = 2 (2,5,8,11...)\n",
    "        my_nodes.append({\n",
    "        \"data\": {\n",
    "            \"id\": value,\n",
    "            \"name\": value\n",
    "            },\n",
    "        \"classes\":\"ChemicalSubstance\"})\n",
    "\n",
    "for i, value in zip(indx_target,value_target):    \n",
    "    if i % 3 == 2: #Index position remainder = 2 (2,5,8,11...)\n",
    "        my_nodes.append({\n",
    "        \"data\": {\n",
    "            \"id\": value,\n",
    "            \"name\": value\n",
    "            },\n",
    "        \"classes\":\"Disease\"})\n",
    "        \n",
    "(my_nodes[0:5])"
   ]
  },
  {
   "cell_type": "markdown",
   "id": "adapted-majority",
   "metadata": {},
   "source": [
    "##### Cytoscape: Edges\n",
    "Then we create dictionaries of edges. Each dictionary includes the source and target elements. We are also including the association type between the target and source, and the number of pub_med id that connect this association. "
   ]
  },
  {
   "cell_type": "code",
   "execution_count": null,
   "id": "social-revolution",
   "metadata": {},
   "outputs": [],
   "source": [
    "#Iterate to get Source-Target, the association type and the number of pred_pubmed\n",
    "\n",
    "my_edges = []\n",
    "for source,target,asso,pred_num in zip(df[\"source\"], df[\"target\"], \n",
    "                              df[\"association_type\"], df[\"number_pred_pubmed\"]):\n",
    "    my_edges.append({\n",
    "             'data': {'source': source, #Source\n",
    "              'target': target, #Target\n",
    "                'label': [asso], #Association type\n",
    "                \"weight\": [pred_num]}, #Number of pred_pubmed ids  \n",
    "               \"group\": \"edges\"    \n",
    "               })\n",
    "    \n",
    "my_edges = [i for j, i in enumerate(my_edges) if i not in my_edges[:j]] #Remove duplicates \n",
    "\n",
    "(my_edges[0:5])"
   ]
  },
  {
   "cell_type": "code",
   "execution_count": null,
   "id": "noted-acrylic",
   "metadata": {},
   "outputs": [],
   "source": []
  },
  {
   "cell_type": "code",
   "execution_count": null,
   "id": "norman-slovak",
   "metadata": {},
   "outputs": [],
   "source": []
  },
  {
   "cell_type": "markdown",
   "id": "determined-chain",
   "metadata": {},
   "source": [
    "##### Concatenate my_nodes and  my_edges lists\n",
    "Finally, we concatenate both list into one. "
   ]
  },
  {
   "cell_type": "code",
   "execution_count": null,
   "id": "cooked-personal",
   "metadata": {},
   "outputs": [],
   "source": [
    "my_list_elements = (my_nodes + my_edges)"
   ]
  },
  {
   "cell_type": "markdown",
   "id": "flexible-cholesterol",
   "metadata": {},
   "source": [
    "##### Save into file and run it to PyCharm\n",
    "We save into a json file and export it ino pycharm "
   ]
  },
  {
   "cell_type": "code",
   "execution_count": null,
   "id": "analyzed-delaware",
   "metadata": {},
   "outputs": [],
   "source": [
    "#Save list on file using json \n",
    "import json\n",
    "with open(\"../results/vamp2_500_connections.txt\", \"w\") as fp:\n",
    "    json.dump(my_list_elements, fp)"
   ]
  },
  {
   "cell_type": "code",
   "execution_count": null,
   "id": "incorporated-reserve",
   "metadata": {},
   "outputs": [],
   "source": []
  },
  {
   "cell_type": "code",
   "execution_count": null,
   "id": "involved-archives",
   "metadata": {},
   "outputs": [],
   "source": []
  },
  {
   "cell_type": "markdown",
   "id": "compound-surname",
   "metadata": {},
   "source": [
    "## Conclusions and caveats\n",
    "\n",
    "This notebook demonstrated the use of BioThings Explorer to retrieve potential new Chemical Substances to treat VAMP2 deficiency. The list of chemical substances retrieved in this notebook includes compounds already proposed in this article https://onlinelibrary.wiley.com/doi/abs/10.1002/humu.24109?af=R. <br>\n",
    "The list of chemical substances is still long, the next step is to filtter results based on some restrictions (e.g. FDA approved treatments)"
   ]
  },
  {
   "cell_type": "code",
   "execution_count": null,
   "id": "presidential-childhood",
   "metadata": {},
   "outputs": [],
   "source": []
  }
 ],
 "metadata": {
  "kernelspec": {
   "display_name": "Python 3",
   "language": "python",
   "name": "python3"
  },
  "language_info": {
   "codemirror_mode": {
    "name": "ipython",
    "version": 3
   },
   "file_extension": ".py",
   "mimetype": "text/x-python",
   "name": "python",
   "nbconvert_exporter": "python",
   "pygments_lexer": "ipython3",
   "version": "3.8.5"
  }
 },
 "nbformat": 4,
 "nbformat_minor": 5
}
