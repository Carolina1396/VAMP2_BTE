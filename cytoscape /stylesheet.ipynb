{
 "cells": [
  {
   "cell_type": "code",
   "execution_count": 17,
   "id": "fiscal-tamil",
   "metadata": {},
   "outputs": [],
   "source": [
    "style = [{\n",
    "  \"selector\": \"core\",\n",
    "  \"style\": {\n",
    "    \"selection-box-color\": \"#AAD8FF\",\n",
    "    \"selection-box-border-color\": \"#8BB0D0\",\n",
    "    \"selection-box-opacity\": \"0.5\"\n",
    "  }\n",
    "\n",
    "}, {\n",
    "  \"selector\": \"node\",\n",
    "  \"style\": {\n",
    "    \"width\": \"mapData(score, 0, 0.006769776522008331, 20, 60)\",\n",
    "    \"height\": \"mapData(score, 0, 0.006769776522008331, 20, 60)\",\n",
    "    \"content\": \"data(name)\",\n",
    "    \"font-size\": \"8px\",\n",
    "    \"text-valign\": \"center\",\n",
    "    \"text-halign\": \"center\",\n",
    "    \"background-color\": \"#555\",\n",
    "    \"text-outline-color\": \"#555\",\n",
    "    \"text-outline-width\": \"2px\",\n",
    "    \"color\": \"#fff\",\n",
    "    \"overlay-padding\": \"6px\",\n",
    "    \"z-index\": \"10\"\n",
    "  }\n",
    "}, {\n",
    "  \"selector\": \"edge\",\n",
    "  \"style\": {\n",
    "    \"curve-style\": \"haystack\",\n",
    "    \"haystack-radius\": \"0.5\",\n",
    "    \"opacity\": \"0.4\",\n",
    "    \"line-color\": \"#bbb\",\n",
    "    \"width\": \"2\",\n",
    "    \"overlay-padding\": \"2px\",\n",
    "    'label': 'data(label)', #Association Type \n",
    "      \"font-size\": \"6px\"\n",
    "  }\n",
    "}, \n",
    "#Selectors weight\n",
    "    {'selector': '[weight > 5]',\n",
    "        'style': {\n",
    "            'line-color': 'blue'}},\n",
    "    {'selector': '[weight > 10]',\n",
    "        'style': {\n",
    "            'line-color': 'red'}},\n",
    "    \n",
    "#Selectors entity type    \n",
    "{'selector':\".BiologicalProcess\",\n",
    "        'style': {\n",
    "            \"background-color\":\"#ff77aa\"}},\n",
    "{'selector':'.Gene',\n",
    "        'style': {\n",
    "        \"background-color\":\"#aaff77\"}},\n",
    "{'selector':'.ChemicalSubstance',\n",
    "        'style': {\n",
    "            \"background-color\":'#77aaff'}},\n",
    "{'selector':'.Disease',\n",
    "        'style': {\n",
    "            \"background-color\":\"#eeff77\"}}]"
   ]
  },
  {
   "cell_type": "code",
   "execution_count": 18,
   "id": "satisfactory-regard",
   "metadata": {},
   "outputs": [],
   "source": [
    "#Save list on file using json \n",
    "import json\n",
    "with open(\"my_stylesheet.txt\", \"w\") as st:\n",
    "    json.dump(style, st)"
   ]
  },
  {
   "cell_type": "code",
   "execution_count": null,
   "id": "color-canberra",
   "metadata": {},
   "outputs": [],
   "source": []
  }
 ],
 "metadata": {
  "kernelspec": {
   "display_name": "Python 3",
   "language": "python",
   "name": "python3"
  },
  "language_info": {
   "codemirror_mode": {
    "name": "ipython",
    "version": 3
   },
   "file_extension": ".py",
   "mimetype": "text/x-python",
   "name": "python",
   "nbconvert_exporter": "python",
   "pygments_lexer": "ipython3",
   "version": "3.9.2"
  }
 },
 "nbformat": 4,
 "nbformat_minor": 5
}
